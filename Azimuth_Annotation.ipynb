{
 "cells": [
  {
   "cell_type": "markdown",
   "metadata": {},
   "source": [
    "# CTann Assessment\n",
    "## Author: Rishikesh Kakde (rkakde@iu.edu)"
   ]
  },
  {
   "cell_type": "markdown",
   "metadata": {},
   "source": [
    "## Dataset Information\n",
    "\n",
    "- **Description:** 10X snRNA-seq data of human kidney  \n",
    "- **Group:** University of California San Diego TMC  \n",
    "- **Consortium:** HuBMAP  \n",
    "- **Citation:** [doi:10.35079/HBM572.JLDL.664](https://doi.org/10.35079/HBM572.JLDL.664)  \n",
    "- **Publication Date:** 2023-04-09  \n",
    "- **Link:** [View Dataset](https://doi.org/10.35079/HBM572.JLDL.664)\n",
    "\n",
    "Note that I have used the expr.h5ad file for this analysis"
   ]
  },
  {
   "cell_type": "markdown",
   "metadata": {},
   "source": [
    "## Setting up the environment"
   ]
  },
  {
   "cell_type": "code",
   "execution_count": 1,
   "metadata": {},
   "outputs": [
    {
     "name": "stdout",
     "output_type": "stream",
     "text": [
      "Requirement already satisfied: anndata in ./.venv/lib/python3.11/site-packages (0.11.3)\n",
      "Requirement already satisfied: requests in ./.venv/lib/python3.11/site-packages (2.32.3)\n",
      "Requirement already satisfied: array-api-compat!=1.5,>1.4 in ./.venv/lib/python3.11/site-packages (from anndata) (1.10.0)\n",
      "Requirement already satisfied: h5py>=3.7 in ./.venv/lib/python3.11/site-packages (from anndata) (3.12.1)\n",
      "Requirement already satisfied: natsort in ./.venv/lib/python3.11/site-packages (from anndata) (8.4.0)\n",
      "Requirement already satisfied: numpy>=1.23 in ./.venv/lib/python3.11/site-packages (from anndata) (2.2.2)\n",
      "Requirement already satisfied: packaging>=20.0 in ./.venv/lib/python3.11/site-packages (from anndata) (24.2)\n",
      "Requirement already satisfied: pandas!=2.1.0rc0,!=2.1.2,>=1.4 in ./.venv/lib/python3.11/site-packages (from anndata) (2.2.3)\n",
      "Requirement already satisfied: scipy>1.8 in ./.venv/lib/python3.11/site-packages (from anndata) (1.15.1)\n",
      "Requirement already satisfied: charset-normalizer<4,>=2 in ./.venv/lib/python3.11/site-packages (from requests) (3.4.1)\n",
      "Requirement already satisfied: idna<4,>=2.5 in ./.venv/lib/python3.11/site-packages (from requests) (3.10)\n",
      "Requirement already satisfied: urllib3<3,>=1.21.1 in ./.venv/lib/python3.11/site-packages (from requests) (2.3.0)\n",
      "Requirement already satisfied: certifi>=2017.4.17 in ./.venv/lib/python3.11/site-packages (from requests) (2025.1.31)\n",
      "Requirement already satisfied: python-dateutil>=2.8.2 in ./.venv/lib/python3.11/site-packages (from pandas!=2.1.0rc0,!=2.1.2,>=1.4->anndata) (2.9.0.post0)\n",
      "Requirement already satisfied: pytz>=2020.1 in ./.venv/lib/python3.11/site-packages (from pandas!=2.1.0rc0,!=2.1.2,>=1.4->anndata) (2025.1)\n",
      "Requirement already satisfied: tzdata>=2022.7 in ./.venv/lib/python3.11/site-packages (from pandas!=2.1.0rc0,!=2.1.2,>=1.4->anndata) (2025.1)\n",
      "Requirement already satisfied: six>=1.5 in ./.venv/lib/python3.11/site-packages (from python-dateutil>=2.8.2->pandas!=2.1.0rc0,!=2.1.2,>=1.4->anndata) (1.17.0)\n",
      "Requirement already satisfied: matplotlib in ./.venv/lib/python3.11/site-packages (3.10.0)\n",
      "Requirement already satisfied: contourpy>=1.0.1 in ./.venv/lib/python3.11/site-packages (from matplotlib) (1.3.1)\n",
      "Requirement already satisfied: cycler>=0.10 in ./.venv/lib/python3.11/site-packages (from matplotlib) (0.12.1)\n",
      "Requirement already satisfied: fonttools>=4.22.0 in ./.venv/lib/python3.11/site-packages (from matplotlib) (4.56.0)\n",
      "Requirement already satisfied: kiwisolver>=1.3.1 in ./.venv/lib/python3.11/site-packages (from matplotlib) (1.4.8)\n",
      "Requirement already satisfied: numpy>=1.23 in ./.venv/lib/python3.11/site-packages (from matplotlib) (2.2.2)\n",
      "Requirement already satisfied: packaging>=20.0 in ./.venv/lib/python3.11/site-packages (from matplotlib) (24.2)\n",
      "Requirement already satisfied: pillow>=8 in ./.venv/lib/python3.11/site-packages (from matplotlib) (11.1.0)\n",
      "Requirement already satisfied: pyparsing>=2.3.1 in ./.venv/lib/python3.11/site-packages (from matplotlib) (3.2.1)\n",
      "Requirement already satisfied: python-dateutil>=2.7 in ./.venv/lib/python3.11/site-packages (from matplotlib) (2.9.0.post0)\n",
      "Requirement already satisfied: six>=1.5 in ./.venv/lib/python3.11/site-packages (from python-dateutil>=2.7->matplotlib) (1.17.0)\n",
      "Requirement already satisfied: seaborn in ./.venv/lib/python3.11/site-packages (0.13.2)\n",
      "Requirement already satisfied: numpy!=1.24.0,>=1.20 in ./.venv/lib/python3.11/site-packages (from seaborn) (2.2.2)\n",
      "Requirement already satisfied: pandas>=1.2 in ./.venv/lib/python3.11/site-packages (from seaborn) (2.2.3)\n",
      "Requirement already satisfied: matplotlib!=3.6.1,>=3.4 in ./.venv/lib/python3.11/site-packages (from seaborn) (3.10.0)\n",
      "Requirement already satisfied: contourpy>=1.0.1 in ./.venv/lib/python3.11/site-packages (from matplotlib!=3.6.1,>=3.4->seaborn) (1.3.1)\n",
      "Requirement already satisfied: cycler>=0.10 in ./.venv/lib/python3.11/site-packages (from matplotlib!=3.6.1,>=3.4->seaborn) (0.12.1)\n",
      "Requirement already satisfied: fonttools>=4.22.0 in ./.venv/lib/python3.11/site-packages (from matplotlib!=3.6.1,>=3.4->seaborn) (4.56.0)\n",
      "Requirement already satisfied: kiwisolver>=1.3.1 in ./.venv/lib/python3.11/site-packages (from matplotlib!=3.6.1,>=3.4->seaborn) (1.4.8)\n",
      "Requirement already satisfied: packaging>=20.0 in ./.venv/lib/python3.11/site-packages (from matplotlib!=3.6.1,>=3.4->seaborn) (24.2)\n",
      "Requirement already satisfied: pillow>=8 in ./.venv/lib/python3.11/site-packages (from matplotlib!=3.6.1,>=3.4->seaborn) (11.1.0)\n",
      "Requirement already satisfied: pyparsing>=2.3.1 in ./.venv/lib/python3.11/site-packages (from matplotlib!=3.6.1,>=3.4->seaborn) (3.2.1)\n",
      "Requirement already satisfied: python-dateutil>=2.7 in ./.venv/lib/python3.11/site-packages (from matplotlib!=3.6.1,>=3.4->seaborn) (2.9.0.post0)\n",
      "Requirement already satisfied: pytz>=2020.1 in ./.venv/lib/python3.11/site-packages (from pandas>=1.2->seaborn) (2025.1)\n",
      "Requirement already satisfied: tzdata>=2022.7 in ./.venv/lib/python3.11/site-packages (from pandas>=1.2->seaborn) (2025.1)\n",
      "Requirement already satisfied: six>=1.5 in ./.venv/lib/python3.11/site-packages (from python-dateutil>=2.7->matplotlib!=3.6.1,>=3.4->seaborn) (1.17.0)\n",
      "Requirement already satisfied: pandas in ./.venv/lib/python3.11/site-packages (2.2.3)\n",
      "Requirement already satisfied: numpy>=1.23.2 in ./.venv/lib/python3.11/site-packages (from pandas) (2.2.2)\n",
      "Requirement already satisfied: python-dateutil>=2.8.2 in ./.venv/lib/python3.11/site-packages (from pandas) (2.9.0.post0)\n",
      "Requirement already satisfied: pytz>=2020.1 in ./.venv/lib/python3.11/site-packages (from pandas) (2025.1)\n",
      "Requirement already satisfied: tzdata>=2022.7 in ./.venv/lib/python3.11/site-packages (from pandas) (2025.1)\n",
      "Requirement already satisfied: six>=1.5 in ./.venv/lib/python3.11/site-packages (from python-dateutil>=2.8.2->pandas) (1.17.0)\n"
     ]
    }
   ],
   "source": [
    "# Installing Dependencies\n",
    "!pip install anndata requests\n",
    "!pip install matplotlib\n",
    "!pip install seaborn\n",
    "!pip install pandas"
   ]
  },
  {
   "cell_type": "markdown",
   "metadata": {},
   "source": [
    "## Importing Annotation file to check contents"
   ]
  },
  {
   "cell_type": "code",
   "execution_count": 2,
   "metadata": {},
   "outputs": [],
   "source": [
    "import anndata as ad\n",
    "\n",
    "annotated_adata = ad.read_h5ad(\"expr.h5ad\")"
   ]
  },
  {
   "cell_type": "markdown",
   "metadata": {},
   "source": [
    "This code calculates the number of cells for each cell type using the annotated data [1]. It counts the occurrences of each cell type annotation in the annotated_adata.obs['cell_type_annotation'] Series."
   ]
  },
  {
   "cell_type": "code",
   "execution_count": 3,
   "metadata": {},
   "outputs": [
    {
     "data": {
      "text/html": [
       "<div>\n",
       "<style scoped>\n",
       "    .dataframe tbody tr th:only-of-type {\n",
       "        vertical-align: middle;\n",
       "    }\n",
       "\n",
       "    .dataframe tbody tr th {\n",
       "        vertical-align: top;\n",
       "    }\n",
       "\n",
       "    .dataframe thead th {\n",
       "        text-align: right;\n",
       "    }\n",
       "</style>\n",
       "<table border=\"1\" class=\"dataframe\">\n",
       "  <thead>\n",
       "    <tr style=\"text-align: right;\">\n",
       "      <th></th>\n",
       "    </tr>\n",
       "  </thead>\n",
       "  <tbody>\n",
       "    <tr>\n",
       "      <th>AAACCCAAGACTAAGT</th>\n",
       "    </tr>\n",
       "    <tr>\n",
       "      <th>AAACCCAAGACTCTAC</th>\n",
       "    </tr>\n",
       "    <tr>\n",
       "      <th>AAACCCAAGGAATGTT</th>\n",
       "    </tr>\n",
       "    <tr>\n",
       "      <th>AAACCCAAGGATATGT</th>\n",
       "    </tr>\n",
       "    <tr>\n",
       "      <th>AAACCCAAGGGCCCTT</th>\n",
       "    </tr>\n",
       "  </tbody>\n",
       "</table>\n",
       "</div>"
      ],
      "text/plain": [
       "Empty DataFrame\n",
       "Columns: []\n",
       "Index: [AAACCCAAGACTAAGT, AAACCCAAGACTCTAC, AAACCCAAGGAATGTT, AAACCCAAGGATATGT, AAACCCAAGGGCCCTT]"
      ]
     },
     "execution_count": 3,
     "metadata": {},
     "output_type": "execute_result"
    }
   ],
   "source": [
    "annotated_adata.obs.head()  # View the first few rows of observation (cell) metadata"
   ]
  },
  {
   "cell_type": "code",
   "execution_count": 4,
   "metadata": {},
   "outputs": [
    {
     "data": {
      "text/html": [
       "<div>\n",
       "<style scoped>\n",
       "    .dataframe tbody tr th:only-of-type {\n",
       "        vertical-align: middle;\n",
       "    }\n",
       "\n",
       "    .dataframe tbody tr th {\n",
       "        vertical-align: top;\n",
       "    }\n",
       "\n",
       "    .dataframe thead th {\n",
       "        text-align: right;\n",
       "    }\n",
       "</style>\n",
       "<table border=\"1\" class=\"dataframe\">\n",
       "  <thead>\n",
       "    <tr style=\"text-align: right;\">\n",
       "      <th></th>\n",
       "      <th>hugo_symbol</th>\n",
       "    </tr>\n",
       "  </thead>\n",
       "  <tbody>\n",
       "    <tr>\n",
       "      <th>ENSG00000000003.15</th>\n",
       "      <td>TSPAN6</td>\n",
       "    </tr>\n",
       "    <tr>\n",
       "      <th>ENSG00000000005.6</th>\n",
       "      <td>TNMD</td>\n",
       "    </tr>\n",
       "    <tr>\n",
       "      <th>ENSG00000000419.13</th>\n",
       "      <td>NaN</td>\n",
       "    </tr>\n",
       "    <tr>\n",
       "      <th>ENSG00000000457.14</th>\n",
       "      <td>SCYL3</td>\n",
       "    </tr>\n",
       "    <tr>\n",
       "      <th>ENSG00000000460.17</th>\n",
       "      <td>C1orf112</td>\n",
       "    </tr>\n",
       "  </tbody>\n",
       "</table>\n",
       "</div>"
      ],
      "text/plain": [
       "                   hugo_symbol\n",
       "ENSG00000000003.15      TSPAN6\n",
       "ENSG00000000005.6         TNMD\n",
       "ENSG00000000419.13         NaN\n",
       "ENSG00000000457.14       SCYL3\n",
       "ENSG00000000460.17    C1orf112"
      ]
     },
     "execution_count": 4,
     "metadata": {},
     "output_type": "execute_result"
    }
   ],
   "source": [
    "annotated_adata.var.head()  # View the first few rows of gene metadata"
   ]
  },
  {
   "cell_type": "code",
   "execution_count": 5,
   "metadata": {},
   "outputs": [
    {
     "data": {
      "text/plain": [
       "(10999, 60286)"
      ]
     },
     "execution_count": 5,
     "metadata": {},
     "output_type": "execute_result"
    }
   ],
   "source": [
    "annotated_adata.X.shape  # Check the dimensions (cells x genes)"
   ]
  },
  {
   "cell_type": "markdown",
   "metadata": {},
   "source": [
    "The dataset has 10,999 cells and 60,286 genes"
   ]
  },
  {
   "cell_type": "markdown",
   "metadata": {},
   "source": [
    "## Running the Azimuth Annotations using R Script"
   ]
  },
  {
   "cell_type": "code",
   "execution_count": 6,
   "metadata": {},
   "outputs": [],
   "source": [
    "import subprocess\n",
    "# Ucomment and Run this cell to setup R enviroment for the analysis\n",
    "#result1 = subprocess.run([\"Rscript\", \"LibraryInstallations.R\"], capture_output=True, text=True)"
   ]
  },
  {
   "cell_type": "code",
   "execution_count": 7,
   "metadata": {},
   "outputs": [],
   "source": [
    "import subprocess\n",
    "\n",
    "result = subprocess.run([\"Rscript\", \"azimuth_script.R\"], capture_output=True, text=True)"
   ]
  },
  {
   "cell_type": "markdown",
   "metadata": {},
   "source": [
    "I used 'kidneyref' in the SeuratData Package as reference for Azimuth annotation."
   ]
  },
  {
   "cell_type": "markdown",
   "metadata": {},
   "source": [
    "## Viewing Annotation Results & Analysis on the Distribution of Cell Type\n"
   ]
  },
  {
   "cell_type": "code",
   "execution_count": 8,
   "metadata": {},
   "outputs": [],
   "source": [
    "import pandas as pd\n",
    "\n",
    "df = pd.read_csv(\"annotated_expr.csv\")"
   ]
  },
  {
   "cell_type": "code",
   "execution_count": 9,
   "metadata": {},
   "outputs": [
    {
     "data": {
      "text/html": [
       "<div>\n",
       "<style scoped>\n",
       "    .dataframe tbody tr th:only-of-type {\n",
       "        vertical-align: middle;\n",
       "    }\n",
       "\n",
       "    .dataframe tbody tr th {\n",
       "        vertical-align: top;\n",
       "    }\n",
       "\n",
       "    .dataframe thead th {\n",
       "        text-align: right;\n",
       "    }\n",
       "</style>\n",
       "<table border=\"1\" class=\"dataframe\">\n",
       "  <thead>\n",
       "    <tr style=\"text-align: right;\">\n",
       "      <th></th>\n",
       "      <th>orig.ident</th>\n",
       "      <th>nCount_RNA</th>\n",
       "      <th>nFeature_RNA</th>\n",
       "      <th>percent.mt</th>\n",
       "      <th>predicted.annotation.l1.score</th>\n",
       "      <th>predicted.annotation.l1</th>\n",
       "      <th>predicted.annotation.l2.score</th>\n",
       "      <th>predicted.annotation.l2</th>\n",
       "      <th>predicted.annotation.l3.score</th>\n",
       "      <th>predicted.annotation.l3</th>\n",
       "      <th>mapping.score</th>\n",
       "    </tr>\n",
       "  </thead>\n",
       "  <tbody>\n",
       "    <tr>\n",
       "      <th>0</th>\n",
       "      <td>SeuratProject</td>\n",
       "      <td>682.218241</td>\n",
       "      <td>532</td>\n",
       "      <td>6.568791</td>\n",
       "      <td>0.739455</td>\n",
       "      <td>Fibroblast</td>\n",
       "      <td>0.739455</td>\n",
       "      <td>Medullary Fibroblast</td>\n",
       "      <td>0.739455</td>\n",
       "      <td>Medullary Fibroblast</td>\n",
       "      <td>0.635889</td>\n",
       "    </tr>\n",
       "    <tr>\n",
       "      <th>1</th>\n",
       "      <td>SeuratProject</td>\n",
       "      <td>6030.285888</td>\n",
       "      <td>2582</td>\n",
       "      <td>6.800384</td>\n",
       "      <td>1.000000</td>\n",
       "      <td>Principal</td>\n",
       "      <td>1.000000</td>\n",
       "      <td>Inner Medullary Collecting Duct</td>\n",
       "      <td>1.000000</td>\n",
       "      <td>Inner Medullary Collecting Duct</td>\n",
       "      <td>0.625590</td>\n",
       "    </tr>\n",
       "    <tr>\n",
       "      <th>2</th>\n",
       "      <td>SeuratProject</td>\n",
       "      <td>2124.557328</td>\n",
       "      <td>1141</td>\n",
       "      <td>2.706446</td>\n",
       "      <td>0.967757</td>\n",
       "      <td>Principal</td>\n",
       "      <td>0.868415</td>\n",
       "      <td>Inner Medullary Collecting Duct</td>\n",
       "      <td>0.868415</td>\n",
       "      <td>Inner Medullary Collecting Duct</td>\n",
       "      <td>0.805629</td>\n",
       "    </tr>\n",
       "    <tr>\n",
       "      <th>3</th>\n",
       "      <td>SeuratProject</td>\n",
       "      <td>1399.949074</td>\n",
       "      <td>908</td>\n",
       "      <td>2.119125</td>\n",
       "      <td>0.730658</td>\n",
       "      <td>Descending Thin Limb</td>\n",
       "      <td>0.574441</td>\n",
       "      <td>Descending Thin Limb Type 3</td>\n",
       "      <td>0.574441</td>\n",
       "      <td>Descending Thin Limb Type 3</td>\n",
       "      <td>0.728727</td>\n",
       "    </tr>\n",
       "    <tr>\n",
       "      <th>4</th>\n",
       "      <td>SeuratProject</td>\n",
       "      <td>780.649993</td>\n",
       "      <td>631</td>\n",
       "      <td>4.483443</td>\n",
       "      <td>0.493369</td>\n",
       "      <td>Connecting Tubule</td>\n",
       "      <td>0.493369</td>\n",
       "      <td>Connecting Tubule</td>\n",
       "      <td>0.477432</td>\n",
       "      <td>Connecting Tubule</td>\n",
       "      <td>0.569920</td>\n",
       "    </tr>\n",
       "  </tbody>\n",
       "</table>\n",
       "</div>"
      ],
      "text/plain": [
       "      orig.ident   nCount_RNA  nFeature_RNA  percent.mt  \\\n",
       "0  SeuratProject   682.218241           532    6.568791   \n",
       "1  SeuratProject  6030.285888          2582    6.800384   \n",
       "2  SeuratProject  2124.557328          1141    2.706446   \n",
       "3  SeuratProject  1399.949074           908    2.119125   \n",
       "4  SeuratProject   780.649993           631    4.483443   \n",
       "\n",
       "   predicted.annotation.l1.score predicted.annotation.l1  \\\n",
       "0                       0.739455              Fibroblast   \n",
       "1                       1.000000               Principal   \n",
       "2                       0.967757               Principal   \n",
       "3                       0.730658    Descending Thin Limb   \n",
       "4                       0.493369       Connecting Tubule   \n",
       "\n",
       "   predicted.annotation.l2.score          predicted.annotation.l2  \\\n",
       "0                       0.739455             Medullary Fibroblast   \n",
       "1                       1.000000  Inner Medullary Collecting Duct   \n",
       "2                       0.868415  Inner Medullary Collecting Duct   \n",
       "3                       0.574441      Descending Thin Limb Type 3   \n",
       "4                       0.493369                Connecting Tubule   \n",
       "\n",
       "   predicted.annotation.l3.score          predicted.annotation.l3  \\\n",
       "0                       0.739455             Medullary Fibroblast   \n",
       "1                       1.000000  Inner Medullary Collecting Duct   \n",
       "2                       0.868415  Inner Medullary Collecting Duct   \n",
       "3                       0.574441      Descending Thin Limb Type 3   \n",
       "4                       0.477432                Connecting Tubule   \n",
       "\n",
       "   mapping.score  \n",
       "0       0.635889  \n",
       "1       0.625590  \n",
       "2       0.805629  \n",
       "3       0.728727  \n",
       "4       0.569920  "
      ]
     },
     "execution_count": 9,
     "metadata": {},
     "output_type": "execute_result"
    }
   ],
   "source": [
    "df.head()"
   ]
  },
  {
   "cell_type": "markdown",
   "metadata": {},
   "source": [
    "## Tabular View of Cell Type Count"
   ]
  },
  {
   "cell_type": "code",
   "execution_count": 10,
   "metadata": {},
   "outputs": [
    {
     "data": {
      "text/html": [
       "<div>\n",
       "<style scoped>\n",
       "    .dataframe tbody tr th:only-of-type {\n",
       "        vertical-align: middle;\n",
       "    }\n",
       "\n",
       "    .dataframe tbody tr th {\n",
       "        vertical-align: top;\n",
       "    }\n",
       "\n",
       "    .dataframe thead th {\n",
       "        text-align: right;\n",
       "    }\n",
       "</style>\n",
       "<table border=\"1\" class=\"dataframe\">\n",
       "  <thead>\n",
       "    <tr style=\"text-align: right;\">\n",
       "      <th></th>\n",
       "      <th>Cell Type</th>\n",
       "      <th>Count</th>\n",
       "    </tr>\n",
       "  </thead>\n",
       "  <tbody>\n",
       "    <tr>\n",
       "      <th>0</th>\n",
       "      <td>Principal</td>\n",
       "      <td>5199</td>\n",
       "    </tr>\n",
       "    <tr>\n",
       "      <th>1</th>\n",
       "      <td>Descending Thin Limb</td>\n",
       "      <td>1527</td>\n",
       "    </tr>\n",
       "    <tr>\n",
       "      <th>2</th>\n",
       "      <td>Fibroblast</td>\n",
       "      <td>1162</td>\n",
       "    </tr>\n",
       "    <tr>\n",
       "      <th>3</th>\n",
       "      <td>Connecting Tubule</td>\n",
       "      <td>1113</td>\n",
       "    </tr>\n",
       "    <tr>\n",
       "      <th>4</th>\n",
       "      <td>Endothelial</td>\n",
       "      <td>1047</td>\n",
       "    </tr>\n",
       "    <tr>\n",
       "      <th>5</th>\n",
       "      <td>Papillary Tip Epithelial</td>\n",
       "      <td>586</td>\n",
       "    </tr>\n",
       "    <tr>\n",
       "      <th>6</th>\n",
       "      <td>Ascending Thin Limb</td>\n",
       "      <td>271</td>\n",
       "    </tr>\n",
       "    <tr>\n",
       "      <th>7</th>\n",
       "      <td>Immune</td>\n",
       "      <td>46</td>\n",
       "    </tr>\n",
       "    <tr>\n",
       "      <th>8</th>\n",
       "      <td>Vascular Smooth Muscle / Pericyte</td>\n",
       "      <td>42</td>\n",
       "    </tr>\n",
       "    <tr>\n",
       "      <th>9</th>\n",
       "      <td>Thick Ascending Limb</td>\n",
       "      <td>3</td>\n",
       "    </tr>\n",
       "  </tbody>\n",
       "</table>\n",
       "</div>"
      ],
      "text/plain": [
       "                           Cell Type  Count\n",
       "0                          Principal   5199\n",
       "1               Descending Thin Limb   1527\n",
       "2                         Fibroblast   1162\n",
       "3                  Connecting Tubule   1113\n",
       "4                        Endothelial   1047\n",
       "5           Papillary Tip Epithelial    586\n",
       "6                Ascending Thin Limb    271\n",
       "7                             Immune     46\n",
       "8  Vascular Smooth Muscle / Pericyte     42\n",
       "9               Thick Ascending Limb      3"
      ]
     },
     "execution_count": 10,
     "metadata": {},
     "output_type": "execute_result"
    }
   ],
   "source": [
    "cell_type_counts = df['predicted.annotation.l1'].value_counts()\n",
    "\n",
    "# Convert to DataFrame for better tabular display\n",
    "cell_type_counts_df = cell_type_counts.reset_index()\n",
    "cell_type_counts_df.columns = ['Cell Type', 'Count']\n",
    "\n",
    "# Print in tabular format\n",
    "cell_type_counts_df"
   ]
  },
  {
   "cell_type": "markdown",
   "metadata": {},
   "source": [
    "This code visualizes the distribution of cells per cell type using matplotlib and seaborn. It creates a bar plot showing the count of each cell type."
   ]
  },
  {
   "cell_type": "markdown",
   "metadata": {},
   "source": [
    "## Visualization of the Cell Type Distribution"
   ]
  },
  {
   "cell_type": "code",
   "execution_count": 11,
   "metadata": {},
   "outputs": [
    {
     "name": "stderr",
     "output_type": "stream",
     "text": [
      "/var/folders/39/6h89h6d53p70wqskpvl76y9c0000gn/T/ipykernel_51792/2937214263.py:9: FutureWarning: \n",
      "\n",
      "Passing `palette` without assigning `hue` is deprecated and will be removed in v0.14.0. Assign the `x` variable to `hue` and set `legend=False` for the same effect.\n",
      "\n",
      "  ax = sns.barplot(x=cell_type_counts.index, y=cell_type_counts.values, palette=\"viridis\")\n"
     ]
    },
    {
     "data": {
      "image/png": "[encoded data removed]",
      "text/plain": [
       "<Figure size 1000x600 with 1 Axes>"
      ]
     },
     "metadata": {},
     "output_type": "display_data"
    }
   ],
   "source": [
    "import matplotlib.pyplot as plt\n",
    "import seaborn as sns\n",
    "\n",
    "# Set figure size and style\n",
    "plt.figure(figsize=(10, 6))\n",
    "sns.set_style(\"whitegrid\")\n",
    "\n",
    "# Create the bar plot\n",
    "ax = sns.barplot(x=cell_type_counts.index, y=cell_type_counts.values, palette=\"viridis\")\n",
    "\n",
    "# Rotate x-axis labels for better readability\n",
    "plt.xticks(rotation=45, ha='right')\n",
    "\n",
    "# Add numbers on top of bars\n",
    "for p in ax.patches:\n",
    "    ax.annotate(f'{int(p.get_height())}', \n",
    "                (p.get_x() + p.get_width() / 2., p.get_height()), \n",
    "                ha='center', va='bottom', fontsize=12, fontweight='bold')\n",
    "\n",
    "# Add axis labels\n",
    "plt.xlabel(\"Cell Type\", fontsize=14, fontweight='bold')\n",
    "plt.ylabel(\"Count\", fontsize=14, fontweight='bold')\n",
    "\n",
    "# Add title\n",
    "plt.title(\"Distribution of Cell Types\", fontsize=16, fontweight='bold')\n",
    "\n",
    "# Tight layout for better spacing\n",
    "plt.tight_layout()\n",
    "\n",
    "# Show the plot\n",
    "plt.show()"
   ]
  },
  {
   "cell_type": "markdown",
   "metadata": {},
   "source": [
    "## **Inference on Cell Type Distribution**\n",
    "The distribution of cell types reveals a highly imbalanced composition, with **Principal cells** being the most abundant, comprising **5199 occurrences**. This dominance significantly outweighs all other cell types, suggesting that Principal cells play a crucial role in the observed biological system.\n",
    "\n",
    "The **Descending Thin Limb (1527), Fibroblast (1162), Connecting Tubule (1113), and Endothelial (1047)** cells form a secondary group with moderate counts, ranging between 1000 and 1600. These cell types likely contribute substantially to system functions but are present in far fewer numbers than Principal cells.\n",
    "\n",
    "A further drop in count is observed for **Papillary Tip Epithelial (586)** and **Ascending Thin Limb (271)** cells, indicating that these are less frequent but still relevant.\n",
    "\n",
    "The **Immune (46), Vascular Smooth Muscle / Pericyte (42), and Thick Ascending Limb (3)** cells appear to be extremely rare, suggesting either a highly specialized function or minimal presence in the analyzed dataset.\n",
    "\n",
    "### **Key Insights:**\n",
    "1. **Principal cells are the predominant type**, accounting for more than half of the total observations.\n",
    "2. **A steep decline in frequency** is evident from Principal cells to other types, emphasizing a hierarchical abundance.\n",
    "3. **Scarce cell types** such as Immune, Vascular Smooth Muscle/Pericyte, and Thick Ascending Limb may indicate specialized or limited roles in the studied context.\n"
   ]
  }
 ],
 "metadata": {
  "kernelspec": {
   "display_name": ".venv",
   "language": "python",
   "name": "python3"
  },
  "language_info": {
   "codemirror_mode": {
    "name": "ipython",
    "version": 3
   },
   "file_extension": ".py",
   "mimetype": "text/x-python",
   "name": "python",
   "nbconvert_exporter": "python",
   "pygments_lexer": "ipython3",
   "version": "3.11.9"
  }
 },
 "nbformat": 4,
 "nbformat_minor": 2
}
